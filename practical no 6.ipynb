{
 "cells": [
  {
   "cell_type": "markdown",
   "metadata": {},
   "source": [
    "### Practical no 6 : Sql implementation by Parth Gawad, Roll no : 62"
   ]
  },
  {
   "cell_type": "markdown",
   "metadata": {},
   "source": [
    "### Connecting to Database"
   ]
  },
  {
   "cell_type": "code",
   "execution_count": 1,
   "metadata": {},
   "outputs": [],
   "source": [
    "import sqlite3\n",
    "\n",
    "connection = sqlite3.connect('./genericDatabase.db')\n",
    "cursor = connection.cursor();"
   ]
  },
  {
   "cell_type": "markdown",
   "metadata": {},
   "source": [
    "### Creating a Table"
   ]
  },
  {
   "cell_type": "code",
   "execution_count": 2,
   "metadata": {},
   "outputs": [],
   "source": [
    "cursor.execute('''Create table students(\n",
    "               id Integer primary key autoincrement,\n",
    "               name text not null,\n",
    "               age integer not null\n",
    "               )''')\n",
    "connection.commit()"
   ]
  },
  {
   "cell_type": "markdown",
   "metadata": {},
   "source": [
    "### CRUD Operations\n",
    "#### Create(Insertion)"
   ]
  },
  {
   "cell_type": "code",
   "execution_count": 5,
   "metadata": {},
   "outputs": [
    {
     "name": "stdout",
     "output_type": "stream",
     "text": [
      "Record added successfully!\n",
      "Record added successfully!\n"
     ]
    }
   ],
   "source": [
    "def create_student(name, age):\n",
    "    cursor.execute('''\n",
    "        INSERT INTO students (name, age) \n",
    "        VALUES (?, ?)\n",
    "    ''', (name, age))\n",
    "    connection.commit()\n",
    "    print(\"Record added successfully!\")\n",
    "\n",
    "create_student(\"Griffith\", 20)\n",
    "create_student(\"Guts\", 22)"
   ]
  },
  {
   "cell_type": "markdown",
   "metadata": {},
   "source": [
    "### Read (Retrieve)"
   ]
  },
  {
   "cell_type": "code",
   "execution_count": 6,
   "metadata": {},
   "outputs": [
    {
     "name": "stdout",
     "output_type": "stream",
     "text": [
      "Student Records:\n",
      "(1, 'Griffith', 20)\n",
      "(2, 'Guts', 22)\n",
      "(3, 'Griffith', 20)\n",
      "(4, 'Guts', 22)\n"
     ]
    }
   ],
   "source": [
    "def read_students():\n",
    "    cursor.execute('SELECT * FROM students')\n",
    "    rows = cursor.fetchall()\n",
    "    print(\"Student Records:\")\n",
    "    for row in rows:\n",
    "        print(row)\n",
    "read_students()"
   ]
  },
  {
   "cell_type": "markdown",
   "metadata": {},
   "source": [
    "### Update"
   ]
  },
  {
   "cell_type": "code",
   "execution_count": 8,
   "metadata": {},
   "outputs": [
    {
     "name": "stdout",
     "output_type": "stream",
     "text": [
      "Student age updated successfully!\n",
      "Student Records:\n",
      "(1, 'Griffith', 21)\n",
      "(2, 'Guts', 22)\n",
      "(3, 'Griffith', 20)\n",
      "(4, 'Guts', 22)\n"
     ]
    }
   ],
   "source": [
    "def update_student_age(student_id, new_age):\n",
    "    cursor.execute('''\n",
    "        update students set age=? where id=?\n",
    "    ''', (new_age, student_id))\n",
    "    connection.commit()\n",
    "    print(\"Student age updated successfully!\")\n",
    "\n",
    "update_student_age(1, 21)  # Updating Alice's age to 21\n",
    "read_students()"
   ]
  },
  {
   "cell_type": "markdown",
   "metadata": {},
   "source": [
    "### Delete"
   ]
  },
  {
   "cell_type": "code",
   "execution_count": 9,
   "metadata": {},
   "outputs": [
    {
     "name": "stdout",
     "output_type": "stream",
     "text": [
      "Student deleted successfully!\n",
      "Student Records:\n",
      "(1, 'Griffith', 21)\n",
      "(3, 'Griffith', 20)\n",
      "(4, 'Guts', 22)\n"
     ]
    }
   ],
   "source": [
    "def delete_student(student_id):\n",
    "    cursor.execute('''\n",
    "          Delete from students where id=?\n",
    "    ''', (student_id,))\n",
    "    connection.commit()\n",
    "    print(\"Student deleted successfully!\")\n",
    "\n",
    "delete_student(2)  # Deleting Bob's record\n",
    "read_students()"
   ]
  },
  {
   "cell_type": "markdown",
   "metadata": {},
   "source": [
    "### Closing the database connection"
   ]
  },
  {
   "cell_type": "code",
   "execution_count": 10,
   "metadata": {},
   "outputs": [],
   "source": [
    "connection.close();"
   ]
  }
 ],
 "metadata": {
  "kernelspec": {
   "display_name": "Python 3",
   "language": "python",
   "name": "python3"
  },
  "language_info": {
   "codemirror_mode": {
    "name": "ipython",
    "version": 3
   },
   "file_extension": ".py",
   "mimetype": "text/x-python",
   "name": "python",
   "nbconvert_exporter": "python",
   "pygments_lexer": "ipython3",
   "version": "3.11.4"
  }
 },
 "nbformat": 4,
 "nbformat_minor": 2
}
