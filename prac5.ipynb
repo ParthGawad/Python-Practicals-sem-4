{
 "cells": [
  {
   "cell_type": "markdown",
   "id": "d7e05999-db2a-4316-bced-bb6d199ce2f0",
   "metadata": {},
   "source": [
    "### Practical no 5 : By Parth Gawad(62)"
   ]
  },
  {
   "cell_type": "code",
   "execution_count": 27,
   "id": "e231c42b-cc6b-4053-9b7c-618a6a04ffd9",
   "metadata": {},
   "outputs": [],
   "source": [
    "class StackDepth : \n",
    "    def depth(str : str) -> int: \n",
    "        max_dep, curr_dept = 0,0;\n",
    "        for char in str :\n",
    "            if char == '(' :\n",
    "                curr_dept += 1;\n",
    "                max_dep = max(curr_dept,max_dep);\n",
    "            elif char == ')' :\n",
    "                curr_dept -= 1;\n",
    "\n",
    "        return max_dep;"
   ]
  },
  {
   "cell_type": "code",
   "execution_count": 31,
   "id": "39b1cee7-b666-4702-85d6-0717c4b48186",
   "metadata": {},
   "outputs": [
    {
     "name": "stdin",
     "output_type": "stream",
     "text": [
      "\n",
      " Enter the elements in stack :  (1+(2*3)+((8)/4))+1\n"
     ]
    },
    {
     "name": "stdout",
     "output_type": "stream",
     "text": [
      "['(', '1', '+', '(', '2', '*', '3', ')', '+', '(', '(', '8', ')', '/', '4', ')', ')', '+', '1']\n",
      "The depth of the '()' is : \n",
      "3\n"
     ]
    }
   ],
   "source": [
    "stack = list(input(\"\\n Enter the elements in stack : \"));\n",
    "print(stack);\n",
    "s1 = StackDepth;\n",
    "print(\"The depth of the '()' is : \");\n",
    "print(s1.depth(stack));"
   ]
  },
  {
   "cell_type": "code",
   "execution_count": null,
   "id": "6775481f-0431-498a-9e77-fe94b1c18007",
   "metadata": {},
   "outputs": [],
   "source": []
  }
 ],
 "metadata": {
  "kernelspec": {
   "display_name": "Python [conda env:base] *",
   "language": "python",
   "name": "conda-base-py"
  },
  "language_info": {
   "codemirror_mode": {
    "name": "ipython",
    "version": 3
   },
   "file_extension": ".py",
   "mimetype": "text/x-python",
   "name": "python",
   "nbconvert_exporter": "python",
   "pygments_lexer": "ipython3",
   "version": "3.12.7"
  }
 },
 "nbformat": 4,
 "nbformat_minor": 5
}
