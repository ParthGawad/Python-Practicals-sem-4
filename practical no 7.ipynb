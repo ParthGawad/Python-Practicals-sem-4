{
 "cells": [
  {
   "cell_type": "markdown",
   "metadata": {},
   "source": [
    "### Practical no 7 : Client & server, By Parth Gawad, Roll no : 62"
   ]
  },
  {
   "cell_type": "markdown",
   "metadata": {},
   "source": [
    "#### Server file :"
   ]
  },
  {
   "cell_type": "code",
   "execution_count": null,
   "metadata": {},
   "outputs": [
    {
     "name": "stdout",
     "output_type": "stream",
     "text": [
      "[SERVER STARTING] Server has been started\n",
      "[LISTENING] Server is listening on 192.168.174.1\n"
     ]
    }
   ],
   "source": [
    "import socket\n",
    "import threading\n",
    "\n",
    "PORT = 5050\n",
    "SERVER = socket.gethostbyname(socket.gethostname())  # Get the local IP address of the host machine\n",
    "ADDR = (SERVER, PORT)\n",
    "FORMAT = 'utf-8'\n",
    "HEADER = 64\n",
    "DISCONNECT_MESSAGE = '!DISCONNECT'\n",
    "\n",
    "server = socket.socket(socket.AF_INET, socket.SOCK_STREAM)\n",
    "server.bind(ADDR)\n",
    "\n",
    "def client_handling(connection, address):\n",
    "    print(f'[NEW CONNECTION] {address} connected')\n",
    "    is_connected = True\n",
    "    while is_connected:\n",
    "        try:\n",
    "            # Receive the length of the incoming message\n",
    "            message_length = connection.recv(HEADER).decode(FORMAT)\n",
    "            if message_length:\n",
    "                message_length = int(message_length)  # Convert message length to an integer\n",
    "                message = connection.recv(message_length).decode(FORMAT)\n",
    "                \n",
    "                if message == DISCONNECT_MESSAGE:\n",
    "                    is_connected = False\n",
    "                print(f'[{address}] {message}')\n",
    "                \n",
    "                # Send acknowledgment to the client\n",
    "                connection.send('Message Received'.encode(FORMAT))\n",
    "        except Exception as e:\n",
    "            print(f'[ERROR] Error handling message from {address}: {e}')\n",
    "            break\n",
    "    \n",
    "    connection.close()\n",
    "    print(f'[DISCONNECTED] {address} disconnected')\n",
    "\n",
    "def start():\n",
    "    server.listen()\n",
    "    print(f'[LISTENING] Server is listening on {SERVER}')\n",
    "    \n",
    "    while True:\n",
    "        try:\n",
    "            connection, address = server.accept()\n",
    "            thread = threading.Thread(target=client_handling, args=(connection, address))\n",
    "            thread.start()\n",
    "            print(f'[ACTIVE CONNECTIONS] {threading.active_count() - 1}')\n",
    "        except Exception as e:\n",
    "            print(f'[ERROR] Error accepting a new connection: {e}')\n",
    "\n",
    "print('[SERVER STARTING] Server has been started')\n",
    "start()\n"
   ]
  },
  {
   "cell_type": "markdown",
   "metadata": {},
   "source": [
    "#### Client File"
   ]
  },
  {
   "cell_type": "code",
   "execution_count": 2,
   "metadata": {},
   "outputs": [
    {
     "ename": "ConnectionRefusedError",
     "evalue": "[WinError 10061] No connection could be made because the target machine actively refused it",
     "output_type": "error",
     "traceback": [
      "\u001b[1;31m---------------------------------------------------------------------------\u001b[0m",
      "\u001b[1;31mConnectionRefusedError\u001b[0m                    Traceback (most recent call last)",
      "Cell \u001b[1;32mIn[2], line 11\u001b[0m\n\u001b[0;32m      8\u001b[0m DISCONNECT_MESSAGE \u001b[38;5;241m=\u001b[39m \u001b[38;5;124m'\u001b[39m\u001b[38;5;124m!DISCONNECT\u001b[39m\u001b[38;5;124m'\u001b[39m\n\u001b[0;32m     10\u001b[0m client \u001b[38;5;241m=\u001b[39m socket\u001b[38;5;241m.\u001b[39msocket(socket\u001b[38;5;241m.\u001b[39mAF_INET, socket\u001b[38;5;241m.\u001b[39mSOCK_STREAM)\n\u001b[1;32m---> 11\u001b[0m \u001b[43mclient\u001b[49m\u001b[38;5;241;43m.\u001b[39;49m\u001b[43mconnect\u001b[49m\u001b[43m(\u001b[49m\u001b[43mADDR\u001b[49m\u001b[43m)\u001b[49m\n\u001b[0;32m     13\u001b[0m \u001b[38;5;28;01mdef\u001b[39;00m \u001b[38;5;21msend\u001b[39m(message):\n\u001b[0;32m     14\u001b[0m     message \u001b[38;5;241m=\u001b[39m message\u001b[38;5;241m.\u001b[39mencode(FORMAT)\n",
      "\u001b[1;31mConnectionRefusedError\u001b[0m: [WinError 10061] No connection could be made because the target machine actively refused it"
     ]
    }
   ],
   "source": [
    "import socket\n",
    "\n",
    "PORT = 5050\n",
    "SERVER = 'localhost'  # Update with the actual server address or IP\n",
    "ADDR = (SERVER, PORT)\n",
    "FORMAT = 'utf-8'\n",
    "HEADER = 64\n",
    "DISCONNECT_MESSAGE = '!DISCONNECT'\n",
    "\n",
    "client = socket.socket(socket.AF_INET, socket.SOCK_STREAM)\n",
    "client.connect(ADDR)\n",
    "\n",
    "def send(message):\n",
    "    message = message.encode(FORMAT)\n",
    "    messageLength = len(message)\n",
    "    sendLength = str(messageLength).encode(FORMAT)\n",
    "    sendLength += b' ' * (HEADER - len(sendLength))\n",
    "    client.send(sendLength)\n",
    "    client.send(message)\n",
    "    \n",
    "    # Receive the response from the server\n",
    "    response = client.recv(2048).decode(FORMAT)\n",
    "    print(f\"Server response: {response}\")\n",
    "\n",
    "if __name__ == '__main__':\n",
    "    # Sending the \"Hello World\" message\n",
    "    send(\"Hello World\")\n",
    "    \n",
    "    # Sending the disconnect message\n",
    "    send(DISCONNECT_MESSAGE)\n",
    "\n",
    "    # Close the client socket after the communication\n",
    "    client.close()\n"
   ]
  },
  {
   "cell_type": "code",
   "execution_count": null,
   "metadata": {},
   "outputs": [],
   "source": []
  }
 ],
 "metadata": {
  "kernelspec": {
   "display_name": "Python 3",
   "language": "python",
   "name": "python3"
  },
  "language_info": {
   "codemirror_mode": {
    "name": "ipython",
    "version": 3
   },
   "file_extension": ".py",
   "mimetype": "text/x-python",
   "name": "python",
   "nbconvert_exporter": "python",
   "pygments_lexer": "ipython3",
   "version": "3.11.4"
  }
 },
 "nbformat": 4,
 "nbformat_minor": 2
}
