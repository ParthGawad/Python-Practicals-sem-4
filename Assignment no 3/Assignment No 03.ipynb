{
 "cells": [
  {
   "cell_type": "markdown",
   "id": "f70859ba-ce49-44d8-99bd-4a79503cf2aa",
   "metadata": {},
   "source": [
    "### Python Assignment no 3\n",
    "### By Parth Gawad, Roll no 62"
   ]
  },
  {
   "cell_type": "markdown",
   "id": "7d7a8325-cb58-4230-8042-cacdca76beea",
   "metadata": {},
   "source": [
    "## Example 1"
   ]
  },
  {
   "cell_type": "code",
   "execution_count": 1,
   "id": "55237032-296e-4ea8-9e15-7dea957be85e",
   "metadata": {},
   "outputs": [
    {
     "name": "stdout",
     "output_type": "stream",
     "text": [
      "[4, 5, 1, 2, 3]\n"
     ]
    }
   ],
   "source": [
    "class ListNode:\n",
    "    def __init__(self, val=0, next=None):\n",
    "        self.val = val\n",
    "        self.next = next\n",
    "\n",
    "def rotateRight(head, k):\n",
    "    if not head or not head.next or k == 0:\n",
    "        return head\n",
    "\n",
    "    length = 1\n",
    "    tail = head\n",
    "    while tail.next:\n",
    "        tail = tail.next\n",
    "        length += 1\n",
    "\n",
    "    k = k % length\n",
    "    if k == 0:\n",
    "        return head\n",
    "\n",
    "    new_tail = head\n",
    "    for _ in range(length - k - 1):\n",
    "        new_tail = new_tail.next\n",
    "\n",
    "    new_head = new_tail.next\n",
    "    new_tail.next = None\n",
    "    tail.next = head\n",
    "\n",
    "    return new_head\n",
    "\n",
    "def list_to_linked_list(lst):\n",
    "    if not lst:\n",
    "        return None\n",
    "    head = ListNode(lst[0])\n",
    "    current = head\n",
    "    for val in lst[1:]:\n",
    "        current.next = ListNode(val)\n",
    "        current = current.next\n",
    "    return head\n",
    "\n",
    "def linked_list_to_list(head):\n",
    "    result = []\n",
    "    while head:\n",
    "        result.append(head.val)\n",
    "        head = head.next\n",
    "    return result\n",
    "\n",
    "head = list_to_linked_list([1, 2, 3, 4, 5])\n",
    "k = 2\n",
    "rotated_head = rotateRight(head, k)\n",
    "print(linked_list_to_list(rotated_head))\n"
   ]
  },
  {
   "cell_type": "markdown",
   "id": "55d75c29-bf5e-4259-9481-ee50f08c0090",
   "metadata": {},
   "source": [
    "## Example 2"
   ]
  },
  {
   "cell_type": "code",
   "execution_count": 2,
   "id": "a5d05be3-fc0d-418a-a677-a4843be3ffc3",
   "metadata": {},
   "outputs": [
    {
     "name": "stdout",
     "output_type": "stream",
     "text": [
      "[2, 0, 1]\n"
     ]
    }
   ],
   "source": [
    "class ListNode:\n",
    "    def __init__(self, val=0, next=None):\n",
    "        self.val = val\n",
    "        self.next = next\n",
    "\n",
    "def rotateRight(head, k):\n",
    "    if not head or not head.next or k == 0:\n",
    "        return head\n",
    "\n",
    "    length = 1\n",
    "    tail = head\n",
    "    while tail.next:\n",
    "        tail = tail.next\n",
    "        length += 1\n",
    "\n",
    "    k = k % length\n",
    "    if k == 0:\n",
    "        return head\n",
    "\n",
    "    new_tail = head\n",
    "    for _ in range(length - k - 1):\n",
    "        new_tail = new_tail.next\n",
    "\n",
    "    new_head = new_tail.next\n",
    "    new_tail.next = None\n",
    "    tail.next = head\n",
    "\n",
    "    return new_head\n",
    "\n",
    "def list_to_linked_list(lst):\n",
    "    if not lst:\n",
    "        return None\n",
    "    head = ListNode(lst[0])\n",
    "    current = head\n",
    "    for val in lst[1:]:\n",
    "        current.next = ListNode(val)\n",
    "        current = current.next\n",
    "    return head\n",
    "\n",
    "def linked_list_to_list(head):\n",
    "    result = []\n",
    "    while head:\n",
    "        result.append(head.val)\n",
    "        head = head.next\n",
    "    return result\n",
    "\n",
    "head = list_to_linked_list([0, 1, 2])\n",
    "k = 4\n",
    "rotated_head = rotateRight(head, k)\n",
    "print(linked_list_to_list(rotated_head))  # Output: [2, 0, 1]\n"
   ]
  }
 ],
 "metadata": {
  "kernelspec": {
   "display_name": "Python 3 (ipykernel)",
   "language": "python",
   "name": "python3"
  },
  "language_info": {
   "codemirror_mode": {
    "name": "ipython",
    "version": 3
   },
   "file_extension": ".py",
   "mimetype": "text/x-python",
   "name": "python",
   "nbconvert_exporter": "python",
   "pygments_lexer": "ipython3",
   "version": "3.12.7"
  }
 },
 "nbformat": 4,
 "nbformat_minor": 5
}
