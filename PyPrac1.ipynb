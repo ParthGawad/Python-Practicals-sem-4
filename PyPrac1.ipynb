{
  "metadata": {
    "kernelspec": {
      "name": "python",
      "display_name": "Python (Pyodide)",
      "language": "python"
    },
    "language_info": {
      "codemirror_mode": {
        "name": "python",
        "version": 3
      },
      "file_extension": ".py",
      "mimetype": "text/x-python",
      "name": "python",
      "nbconvert_exporter": "python",
      "pygments_lexer": "ipython3",
      "version": "3.8"
    }
  },
  "nbformat_minor": 5,
  "nbformat": 4,
  "cells": [
    {
      "id": "55ba5e5b-9da4-4dff-8121-ebc90633a18b",
      "cell_type": "markdown",
      "source": "### Parth Gawad, Python Practical no 1",
      "metadata": {}
    },
    {
      "id": "32b0df02-235a-4917-8a9b-63f9aad31c04",
      "cell_type": "markdown",
      "source": "### Strings in Python\n",
      "metadata": {}
    },
    {
      "id": "4a994e11-927d-43d0-9690-f0be3f0cb52e",
      "cell_type": "code",
      "source": "# Assigning string to a variable\na = 'This is a string'\nprint (a)\nb = \"This is a string\"\nprint (b)\nc= '''This is a string'''\nprint (c)",
      "metadata": {
        "trusted": true
      },
      "outputs": [
        {
          "name": "stdout",
          "output_type": "stream",
          "text": "This is a string\nThis is a string\nThis is a string\n"
        }
      ],
      "execution_count": 1
    },
    {
      "id": "6aa6375b-176c-453f-b5bd-34dd643457ab",
      "cell_type": "markdown",
      "source": "### Lists in Python",
      "metadata": {}
    },
    {
      "id": "3039660d-cddf-4f29-949b-e9ab87f52016",
      "cell_type": "code",
      "source": "# Declaring a list\nL = [1, \"a\" , \"string\" , 1+2]\nprint (L)\n#Adding an element in the list\nL.append(6) \nprint (L)\n#Deleting last element from a list\nL.pop()\nprint (L)\n#Displaying Second element of the list\nprint (L[1])",
      "metadata": {
        "trusted": true
      },
      "outputs": [
        {
          "name": "stdout",
          "output_type": "stream",
          "text": "[1, 'a', 'string', 3]\n[1, 'a', 'string', 3, 6]\n[1, 'a', 'string', 3]\na\n"
        }
      ],
      "execution_count": 2
    },
    {
      "id": "6efa5a71-0195-4ed4-8402-900862c1a495",
      "cell_type": "markdown",
      "source": "### Tuples in python",
      "metadata": {}
    },
    {
      "id": "4f7322e7-5477-44cb-bd82-d59e981b7f16",
      "cell_type": "code",
      "source": "tup = (1, \"a\", \"string\", 1+2)\nprint(tup)\nprint(tup[1])",
      "metadata": {
        "trusted": true
      },
      "outputs": [
        {
          "name": "stdout",
          "output_type": "stream",
          "text": "(1, 'a', 'string', 3)\na\n"
        }
      ],
      "execution_count": 3
    },
    {
      "id": "a7ffc31a-af6e-4a7e-9767-6c1039ce1250",
      "cell_type": "markdown",
      "source": "### Dictionaries in python",
      "metadata": {}
    },
    {
      "id": "4f8e555d-bfa9-4fe1-bcfe-923e8ef99e4e",
      "cell_type": "markdown",
      "source": "A Python dictionary is a data structure that stores the value in key: value pairs. Values in a dictionary can be of any data type and can be duplicated, whereas keys can’t be repeated and must be immutable.",
      "metadata": {}
    },
    {
      "id": "3d84bc1e-c3d7-448d-acee-2ee05dccc84f",
      "cell_type": "code",
      "source": "d = {1: 'Lorem', 2: 'Ipsum', 3: 'Dolerum'}\nprint(d)",
      "metadata": {
        "trusted": true
      },
      "outputs": [
        {
          "name": "stdout",
          "output_type": "stream",
          "text": "{1: 'Lorem', 2: 'Ipsum', 3: 'Dolerum'}\n"
        }
      ],
      "execution_count": 1
    },
    {
      "id": "a766d732-2985-4df1-aa87-589535cd12d5",
      "cell_type": "markdown",
      "source": "#### Create a Dictionary",
      "metadata": {}
    },
    {
      "id": "74b06d5b-e2ff-4cd7-9ae2-13dcf0c23e49",
      "cell_type": "code",
      "source": "# create dictionary using { }\nd1 = {1: 'Game', 2: 'of', 3: 'Thrones'}\nprint(d1)\n\n# create dictionary using dict() constructor\nd2 = dict(a = \"House\", b = \"of\", c = \"Cards\")\nprint(d2)",
      "metadata": {
        "trusted": true
      },
      "outputs": [
        {
          "name": "stdout",
          "output_type": "stream",
          "text": "{1: 'Game', 2: 'of', 3: 'Thrones'}\n{'a': 'House', 'b': 'of', 'c': 'Cards'}\n"
        }
      ],
      "execution_count": 2
    },
    {
      "id": "e2c344eb-8be0-45e9-b2e1-1b8d6690c991",
      "cell_type": "markdown",
      "source": "#### Accessing Dictionary Items",
      "metadata": {}
    },
    {
      "id": "bc192385-ed07-44d2-87c4-ea104da4eaab",
      "cell_type": "code",
      "source": "d = { \"name\": \"Alice\", 1: \"Python\", (1, 2): [1,2,4] }\n\n# Access using key\nprint(d[\"name\"])\n\n# Access using get()\nprint(d.get(\"name\"))",
      "metadata": {
        "trusted": true
      },
      "outputs": [
        {
          "name": "stdout",
          "output_type": "stream",
          "text": "Alice\nAlice\n"
        }
      ],
      "execution_count": 3
    },
    {
      "id": "d7c4a496-cd82-4ccd-8fe2-f879e54851b5",
      "cell_type": "markdown",
      "source": "#### Adding & Updating Dictionary Items",
      "metadata": {}
    },
    {
      "id": "8cb1aec3-1f63-4578-83fa-619e4f7492e7",
      "cell_type": "code",
      "source": "d = {1: 'Game', 2: 'of', 3: 'Thrones'}\n\n# Adding a new key-value pair\nd[\"age\"] = 22\n\n# Updating an existing value\nd[1] = \"Python dict\"\n\nprint(d)",
      "metadata": {
        "trusted": true
      },
      "outputs": [
        {
          "name": "stdout",
          "output_type": "stream",
          "text": "{1: 'Python dict', 2: 'of', 3: 'Thrones', 'age': 22}\n"
        }
      ],
      "execution_count": 4
    },
    {
      "id": "31ed44db-f76d-415a-90d3-6730bbbcdc3e",
      "cell_type": "markdown",
      "source": "#### Deleting Items from Dictionary ",
      "metadata": {}
    },
    {
      "id": "fb1afee7-a5d0-481f-9f31-7d2b6f792cce",
      "cell_type": "code",
      "source": "d = {1: 'Game', 2: 'of', 3: 'Thrones'}\ndel d[1]\nprint(d)",
      "metadata": {
        "trusted": true
      },
      "outputs": [
        {
          "name": "stdout",
          "output_type": "stream",
          "text": "{2: 'of', 3: 'Thrones'}\n"
        }
      ],
      "execution_count": 5
    },
    {
      "id": "e49f3c8a-a3cd-4abe-bf3b-a0a39efee908",
      "cell_type": "code",
      "source": "",
      "metadata": {
        "trusted": true
      },
      "outputs": [],
      "execution_count": null
    }
  ]
}